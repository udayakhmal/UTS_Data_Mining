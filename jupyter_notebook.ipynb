{
 "cells": [
  {
   "cell_type": "code",
   "execution_count": 2,
   "id": "a4fcd9de-c70f-4ebd-aaa8-12a209bffc1d",
   "metadata": {},
   "outputs": [
    {
     "data": {
      "text/html": [
       "<div>\n",
       "<style scoped>\n",
       "    .dataframe tbody tr th:only-of-type {\n",
       "        vertical-align: middle;\n",
       "    }\n",
       "\n",
       "    .dataframe tbody tr th {\n",
       "        vertical-align: top;\n",
       "    }\n",
       "\n",
       "    .dataframe thead th {\n",
       "        text-align: right;\n",
       "    }\n",
       "</style>\n",
       "<table border=\"1\" class=\"dataframe\">\n",
       "  <thead>\n",
       "    <tr style=\"text-align: right;\">\n",
       "      <th></th>\n",
       "      <th>InvoiceNo</th>\n",
       "      <th>StockCode</th>\n",
       "      <th>Description</th>\n",
       "      <th>Quantity</th>\n",
       "      <th>InvoiceDate</th>\n",
       "      <th>UnitPrice</th>\n",
       "      <th>CustomerID</th>\n",
       "      <th>Country</th>\n",
       "    </tr>\n",
       "  </thead>\n",
       "  <tbody>\n",
       "    <tr>\n",
       "      <th>0</th>\n",
       "      <td>536365</td>\n",
       "      <td>85123A</td>\n",
       "      <td>WHITE HANGING HEART T-LIGHT HOLDER</td>\n",
       "      <td>6</td>\n",
       "      <td>12/1/2010 8:26</td>\n",
       "      <td>2.55</td>\n",
       "      <td>17850.0</td>\n",
       "      <td>United Kingdom</td>\n",
       "    </tr>\n",
       "    <tr>\n",
       "      <th>1</th>\n",
       "      <td>536365</td>\n",
       "      <td>71053</td>\n",
       "      <td>WHITE METAL LANTERN</td>\n",
       "      <td>6</td>\n",
       "      <td>12/1/2010 8:26</td>\n",
       "      <td>3.39</td>\n",
       "      <td>17850.0</td>\n",
       "      <td>United Kingdom</td>\n",
       "    </tr>\n",
       "    <tr>\n",
       "      <th>2</th>\n",
       "      <td>536365</td>\n",
       "      <td>84406B</td>\n",
       "      <td>CREAM CUPID HEARTS COAT HANGER</td>\n",
       "      <td>8</td>\n",
       "      <td>12/1/2010 8:26</td>\n",
       "      <td>2.75</td>\n",
       "      <td>17850.0</td>\n",
       "      <td>United Kingdom</td>\n",
       "    </tr>\n",
       "    <tr>\n",
       "      <th>3</th>\n",
       "      <td>536365</td>\n",
       "      <td>84029G</td>\n",
       "      <td>KNITTED UNION FLAG HOT WATER BOTTLE</td>\n",
       "      <td>6</td>\n",
       "      <td>12/1/2010 8:26</td>\n",
       "      <td>3.39</td>\n",
       "      <td>17850.0</td>\n",
       "      <td>United Kingdom</td>\n",
       "    </tr>\n",
       "    <tr>\n",
       "      <th>4</th>\n",
       "      <td>536365</td>\n",
       "      <td>84029E</td>\n",
       "      <td>RED WOOLLY HOTTIE WHITE HEART.</td>\n",
       "      <td>6</td>\n",
       "      <td>12/1/2010 8:26</td>\n",
       "      <td>3.39</td>\n",
       "      <td>17850.0</td>\n",
       "      <td>United Kingdom</td>\n",
       "    </tr>\n",
       "    <tr>\n",
       "      <th>...</th>\n",
       "      <td>...</td>\n",
       "      <td>...</td>\n",
       "      <td>...</td>\n",
       "      <td>...</td>\n",
       "      <td>...</td>\n",
       "      <td>...</td>\n",
       "      <td>...</td>\n",
       "      <td>...</td>\n",
       "    </tr>\n",
       "    <tr>\n",
       "      <th>541904</th>\n",
       "      <td>581587</td>\n",
       "      <td>22613</td>\n",
       "      <td>PACK OF 20 SPACEBOY NAPKINS</td>\n",
       "      <td>12</td>\n",
       "      <td>12/9/2011 12:50</td>\n",
       "      <td>0.85</td>\n",
       "      <td>12680.0</td>\n",
       "      <td>France</td>\n",
       "    </tr>\n",
       "    <tr>\n",
       "      <th>541905</th>\n",
       "      <td>581587</td>\n",
       "      <td>22899</td>\n",
       "      <td>CHILDREN'S APRON DOLLY GIRL</td>\n",
       "      <td>6</td>\n",
       "      <td>12/9/2011 12:50</td>\n",
       "      <td>2.10</td>\n",
       "      <td>12680.0</td>\n",
       "      <td>France</td>\n",
       "    </tr>\n",
       "    <tr>\n",
       "      <th>541906</th>\n",
       "      <td>581587</td>\n",
       "      <td>23254</td>\n",
       "      <td>CHILDRENS CUTLERY DOLLY GIRL</td>\n",
       "      <td>4</td>\n",
       "      <td>12/9/2011 12:50</td>\n",
       "      <td>4.15</td>\n",
       "      <td>12680.0</td>\n",
       "      <td>France</td>\n",
       "    </tr>\n",
       "    <tr>\n",
       "      <th>541907</th>\n",
       "      <td>581587</td>\n",
       "      <td>23255</td>\n",
       "      <td>CHILDRENS CUTLERY CIRCUS PARADE</td>\n",
       "      <td>4</td>\n",
       "      <td>12/9/2011 12:50</td>\n",
       "      <td>4.15</td>\n",
       "      <td>12680.0</td>\n",
       "      <td>France</td>\n",
       "    </tr>\n",
       "    <tr>\n",
       "      <th>541908</th>\n",
       "      <td>581587</td>\n",
       "      <td>22138</td>\n",
       "      <td>BAKING SET 9 PIECE RETROSPOT</td>\n",
       "      <td>3</td>\n",
       "      <td>12/9/2011 12:50</td>\n",
       "      <td>4.95</td>\n",
       "      <td>12680.0</td>\n",
       "      <td>France</td>\n",
       "    </tr>\n",
       "  </tbody>\n",
       "</table>\n",
       "<p>541909 rows × 8 columns</p>\n",
       "</div>"
      ],
      "text/plain": [
       "       InvoiceNo StockCode                          Description  Quantity  \\\n",
       "0         536365    85123A   WHITE HANGING HEART T-LIGHT HOLDER         6   \n",
       "1         536365     71053                  WHITE METAL LANTERN         6   \n",
       "2         536365    84406B       CREAM CUPID HEARTS COAT HANGER         8   \n",
       "3         536365    84029G  KNITTED UNION FLAG HOT WATER BOTTLE         6   \n",
       "4         536365    84029E       RED WOOLLY HOTTIE WHITE HEART.         6   \n",
       "...          ...       ...                                  ...       ...   \n",
       "541904    581587     22613          PACK OF 20 SPACEBOY NAPKINS        12   \n",
       "541905    581587     22899         CHILDREN'S APRON DOLLY GIRL          6   \n",
       "541906    581587     23254        CHILDRENS CUTLERY DOLLY GIRL          4   \n",
       "541907    581587     23255      CHILDRENS CUTLERY CIRCUS PARADE         4   \n",
       "541908    581587     22138        BAKING SET 9 PIECE RETROSPOT          3   \n",
       "\n",
       "            InvoiceDate  UnitPrice  CustomerID         Country  \n",
       "0        12/1/2010 8:26       2.55     17850.0  United Kingdom  \n",
       "1        12/1/2010 8:26       3.39     17850.0  United Kingdom  \n",
       "2        12/1/2010 8:26       2.75     17850.0  United Kingdom  \n",
       "3        12/1/2010 8:26       3.39     17850.0  United Kingdom  \n",
       "4        12/1/2010 8:26       3.39     17850.0  United Kingdom  \n",
       "...                 ...        ...         ...             ...  \n",
       "541904  12/9/2011 12:50       0.85     12680.0          France  \n",
       "541905  12/9/2011 12:50       2.10     12680.0          France  \n",
       "541906  12/9/2011 12:50       4.15     12680.0          France  \n",
       "541907  12/9/2011 12:50       4.15     12680.0          France  \n",
       "541908  12/9/2011 12:50       4.95     12680.0          France  \n",
       "\n",
       "[541909 rows x 8 columns]"
      ]
     },
     "execution_count": 2,
     "metadata": {},
     "output_type": "execute_result"
    }
   ],
   "source": [
    "import pandas as pd\n",
    "\n",
    "file_path = 'Online Retail-unclean.csv'\n",
    "data = pd.read_csv(file_path)\n",
    "data"
   ]
  },
  {
   "cell_type": "code",
   "execution_count": 5,
   "id": "675219e4-c1ac-47f1-84da-f8a7a78a4567",
   "metadata": {},
   "outputs": [
    {
     "name": "stdout",
     "output_type": "stream",
     "text": [
      "Description      1454\n",
      "UnitPrice           5\n",
      "CustomerID     135086\n",
      "Country             8\n",
      "dtype: int64\n"
     ]
    }
   ],
   "source": [
    "missing_data = data.isnull().sum()\n",
    "missing_data = missing_data[missing_data > 0]\n",
    "print(missing_data)"
   ]
  },
  {
   "cell_type": "code",
   "execution_count": 12,
   "id": "64c23cd9-d49c-494e-bee7-df2658074824",
   "metadata": {},
   "outputs": [
    {
     "name": "stdout",
     "output_type": "stream",
     "text": [
      "Negara 'Australia' memiliki missing data jumlahnya 5\n",
      "Negara 'Bahrain' memiliki missing data jumlahnya 2\n",
      "Negara 'Canada' memiliki missing data jumlahnya 3\n",
      "Negara 'EIRE' memiliki missing data jumlahnya 711\n",
      "Negara 'France' memiliki missing data jumlahnya 66\n",
      "Negara 'Hong Kong' memiliki missing data jumlahnya 288\n",
      "Negara 'Israel' memiliki missing data jumlahnya 47\n",
      "Negara 'Portugal' memiliki missing data jumlahnya 39\n",
      "Negara 'Singapore' memiliki missing data jumlahnya 3\n",
      "Negara 'Switzerland' memiliki missing data jumlahnya 125\n",
      "Negara 'United Kingdom' memiliki missing data jumlahnya 135054\n",
      "Negara 'Unspecified' memiliki missing data jumlahnya 202\n"
     ]
    }
   ],
   "source": [
    "missing_data = data[data.isnull().any(axis=1)]\n",
    "grouped_missing = missing_data.isnull().sum(axis=1).groupby(missing_data['Country']).sum()\n",
    "for country, count in grouped_missing.items():\n",
    "    print(f\"Negara '{country}' memiliki missing data jumlahnya {count}\")"
   ]
  },
  {
   "cell_type": "code",
   "execution_count": 13,
   "id": "fe524f67-7a9c-46b9-a9a9-7cb43c96540a",
   "metadata": {},
   "outputs": [
    {
     "name": "stdout",
     "output_type": "stream",
     "text": [
      "<class 'pandas.core.frame.DataFrame'>\n",
      "RangeIndex: 541909 entries, 0 to 541908\n",
      "Data columns (total 8 columns):\n",
      " #   Column       Non-Null Count   Dtype  \n",
      "---  ------       --------------   -----  \n",
      " 0   InvoiceNo    541909 non-null  object \n",
      " 1   StockCode    541909 non-null  object \n",
      " 2   Description  540455 non-null  object \n",
      " 3   Quantity     541909 non-null  int64  \n",
      " 4   InvoiceDate  541909 non-null  object \n",
      " 5   UnitPrice    541904 non-null  float64\n",
      " 6   CustomerID   406823 non-null  float64\n",
      " 7   Country      541901 non-null  object \n",
      "dtypes: float64(2), int64(1), object(5)\n",
      "memory usage: 33.1+ MB\n"
     ]
    }
   ],
   "source": [
    "data.info()"
   ]
  },
  {
   "cell_type": "code",
   "execution_count": 14,
   "id": "ba84548f-7a89-4168-8aff-0e67177ffa81",
   "metadata": {},
   "outputs": [
    {
     "name": "stdout",
     "output_type": "stream",
     "text": [
      "<class 'pandas.core.frame.DataFrame'>\n",
      "Index: 540455 entries, 0 to 541908\n",
      "Data columns (total 8 columns):\n",
      " #   Column       Non-Null Count   Dtype  \n",
      "---  ------       --------------   -----  \n",
      " 0   InvoiceNo    540455 non-null  object \n",
      " 1   StockCode    540455 non-null  object \n",
      " 2   Description  540455 non-null  object \n",
      " 3   Quantity     540455 non-null  int64  \n",
      " 4   InvoiceDate  540455 non-null  object \n",
      " 5   UnitPrice    540450 non-null  float64\n",
      " 6   CustomerID   406823 non-null  float64\n",
      " 7   Country      540447 non-null  object \n",
      "dtypes: float64(2), int64(1), object(5)\n",
      "memory usage: 37.1+ MB\n",
      "None\n"
     ]
    }
   ],
   "source": [
    "data = data.dropna(subset=['Description'])\n",
    "print(data.info())\n"
   ]
  },
  {
   "cell_type": "code",
   "execution_count": 16,
   "id": "161568eb-1cc0-4f29-a096-d33dec1b37d0",
   "metadata": {},
   "outputs": [
    {
     "name": "stdout",
     "output_type": "stream",
     "text": [
      "0\n"
     ]
    }
   ],
   "source": [
    "mean_unit_price = data['UnitPrice'].mean()\n",
    "data.loc[:, 'UnitPrice'] = data['UnitPrice'].fillna(mean_unit_price)\n",
    "print(data['UnitPrice'].isnull().sum())"
   ]
  },
  {
   "cell_type": "code",
   "execution_count": 19,
   "id": "1162a883-ae02-4893-b78d-dbde1c37d52f",
   "metadata": {},
   "outputs": [
    {
     "name": "stdout",
     "output_type": "stream",
     "text": [
      "0\n"
     ]
    }
   ],
   "source": [
    "data.loc[:, 'CustomerID'] = data['CustomerID'].fillna(0)\n",
    "print(data['CustomerID'].isnull().sum())"
   ]
  },
  {
   "cell_type": "code",
   "execution_count": 20,
   "id": "cc9a002c-751a-4202-90ac-d8ac3730553f",
   "metadata": {},
   "outputs": [
    {
     "name": "stdout",
     "output_type": "stream",
     "text": [
      "0\n"
     ]
    }
   ],
   "source": [
    "data.loc[:, 'Country'] = data['Country'].fillna('NA')\n",
    "print(data['Country'].isnull().sum())"
   ]
  },
  {
   "cell_type": "code",
   "execution_count": 22,
   "id": "6a51b235-595b-42c8-9639-9b3065a0e474",
   "metadata": {},
   "outputs": [
    {
     "name": "stdout",
     "output_type": "stream",
     "text": [
      "Data bersih telah disimpan ke ' Online-Retail-Clean.xlsx'\n"
     ]
    }
   ],
   "source": [
    "data.to_excel('data_bersih.xlsx', index=False)\n",
    "print(\"Data bersih telah disimpan ke ' Online-Retail-Clean.xlsx'\")"
   ]
  },
  {
   "cell_type": "code",
   "execution_count": 28,
   "id": "34536692-66ac-44ec-8215-62776f8a85a1",
   "metadata": {},
   "outputs": [
    {
     "name": "stdout",
     "output_type": "stream",
     "text": [
      "Ada 3 baris dengan tanggal tidak valid.\n"
     ]
    },
    {
     "name": "stderr",
     "output_type": "stream",
     "text": [
      "C:\\Users\\aditb\\AppData\\Local\\Temp\\ipykernel_16188\\2785946631.py:2: SettingWithCopyWarning: \n",
      "A value is trying to be set on a copy of a slice from a DataFrame.\n",
      "Try using .loc[row_indexer,col_indexer] = value instead\n",
      "\n",
      "See the caveats in the documentation: https://pandas.pydata.org/pandas-docs/stable/user_guide/indexing.html#returning-a-view-versus-a-copy\n",
      "  data['InvoiceDate'] = pd.to_datetime(data['InvoiceDate'], errors='coerce')\n"
     ]
    }
   ],
   "source": [
    "# Konversi InvoiceDate ke datetime dengan validasi\n",
    "data['InvoiceDate'] = pd.to_datetime(data['InvoiceDate'], errors='coerce')\n",
    "\n",
    "# Periksa apakah ada nilai yang gagal dikonversi\n",
    "invalid_dates = data[data['InvoiceDate'].isnull()]\n",
    "print(f\"Ada {len(invalid_dates)} baris dengan tanggal tidak valid.\")\n"
   ]
  },
  {
   "cell_type": "code",
   "execution_count": 29,
   "id": "161bce3b-f654-44d2-baef-04c5c28e3f6f",
   "metadata": {},
   "outputs": [
    {
     "name": "stdout",
     "output_type": "stream",
     "text": [
      "Ada 0 baris dengan tanggal tidak valid setelah penghapusan.\n"
     ]
    }
   ],
   "source": [
    "# Menghapus baris dengan nilai InvoiceDate tidak valid\n",
    "data = data.dropna(subset=['InvoiceDate'])\n",
    "\n",
    "# Verifikasi bahwa tidak ada lagi tanggal yang tidak valid\n",
    "print(f\"Ada {data['InvoiceDate'].isnull().sum()} baris dengan tanggal tidak valid setelah penghapusan.\")\n"
   ]
  },
  {
   "cell_type": "code",
   "execution_count": 30,
   "id": "40cd7183-7364-4a0f-9487-84ef83375672",
   "metadata": {},
   "outputs": [
    {
     "name": "stdout",
     "output_type": "stream",
     "text": [
      "File 'Aggregasi.xlsx' berhasil disimpan!\n"
     ]
    }
   ],
   "source": [
    "import pandas as pd\n",
    "\n",
    "# Pastikan InvoiceDate dalam format datetime\n",
    "data.loc[:, 'InvoiceDate'] = pd.to_datetime(data['InvoiceDate'])\n",
    "\n",
    "# Tambahkan kolom Month menggunakan .loc\n",
    "data.loc[:, 'Month'] = data['InvoiceDate'].dt.to_period('M')\n",
    "\n",
    "# Agregasi total UnitPrice per negara per bulan\n",
    "aggregated_data = data.groupby(['Country', 'Month'])['UnitPrice'].sum().reset_index()\n",
    "\n",
    "# Simpan hasil ke dalam file Excel\n",
    "aggregated_data.to_excel('Aggregasi.xlsx', index=False)\n",
    "\n",
    "print(\"File 'Aggregasi.xlsx' berhasil disimpan!\")\n"
   ]
  },
  {
   "cell_type": "code",
   "execution_count": 31,
   "id": "bcd55159-c30b-4af9-8c32-cc9163e3b76e",
   "metadata": {},
   "outputs": [
    {
     "name": "stdout",
     "output_type": "stream",
     "text": [
      "File Sampling.xlsx berhasil disimpan!\n"
     ]
    }
   ],
   "source": [
    "import math\n",
    "\n",
    "# Menghitung jumlah data per negara\n",
    "country_counts = data['Country'].value_counts().reset_index()\n",
    "country_counts.columns = ['Country', 'TotalData']\n",
    "\n",
    "# Fungsi untuk menghitung ukuran sampel\n",
    "def calculate_sample_size(total, alpha):\n",
    "    Z = {0.03: 1.88, 0.01: 2.58}[alpha]  # Z-score berdasarkan tingkat keyakinan\n",
    "    p = 0.5  # Asumsi probabilitas keberhasilan\n",
    "    E = alpha  # Margin of error\n",
    "    n = (Z**2 * p * (1 - p)) / (E**2)  # Rumus ukuran sampel\n",
    "    n = math.ceil(n)  # Pembulatan ke atas\n",
    "    return min(total, n)  # Tidak lebih besar dari total populasi\n",
    "\n",
    "# Menambahkan kolom untuk ukuran sampel dengan alpha 0.03 dan 0.01\n",
    "country_counts['Sample_alpha_0.03'] = country_counts['TotalData'].apply(lambda x: calculate_sample_size(x, 0.03))\n",
    "country_counts['Sample_alpha_0.01'] = country_counts['TotalData'].apply(lambda x: calculate_sample_size(x, 0.01))\n",
    "\n",
    "# Menyimpan hasil ke file Excel\n",
    "country_counts.to_excel('Sampling.xlsx', index=False)\n",
    "\n",
    "print(\"File Sampling.xlsx berhasil disimpan!\")\n"
   ]
  },
  {
   "cell_type": "code",
   "execution_count": null,
   "id": "afa8361c-c182-4145-ac08-dc5e8e78f83a",
   "metadata": {},
   "outputs": [],
   "source": [
    "data.to_excel('Online Retail-unclean.xlsx', index=False)\n",
    "print(\"File berhasil disalin sebagai 'Online Retail-unclean.xlsx'\")"
   ]
  },
  {
   "cell_type": "code",
   "execution_count": null,
   "id": "109e9a88-3711-4743-807f-27533fe7cd9a",
   "metadata": {},
   "outputs": [],
   "source": []
  }
 ],
 "metadata": {
  "kernelspec": {
   "display_name": "Python 3 (ipykernel)",
   "language": "python",
   "name": "python3"
  },
  "language_info": {
   "codemirror_mode": {
    "name": "ipython",
    "version": 3
   },
   "file_extension": ".py",
   "mimetype": "text/x-python",
   "name": "python",
   "nbconvert_exporter": "python",
   "pygments_lexer": "ipython3",
   "version": "3.12.4"
  }
 },
 "nbformat": 4,
 "nbformat_minor": 5
}
